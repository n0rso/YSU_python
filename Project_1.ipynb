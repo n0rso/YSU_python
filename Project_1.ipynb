{
 "cells": [
  {
   "cell_type": "markdown",
   "metadata": {},
   "source": [
    "# Project 1.\n",
    "\n",
    "## Deadline: April 23, 22:00 ```Ավելի ուշ ուղարկված աշխատանքներ չեն ընդունվի։```\n",
    "\n",
    "\n",
    "```\n",
    "Complete all the tasks in the jupyter notebook and name it name_last-name_project1.ipynb. Send me a zip file called name_last-name_project1 containing 2 files: the csv file with the data that you have scrapped in Task 1 and the jupyter notebook. \n",
    "Send the zip file to my email: shahanearushanyan@gmail.com\n",
    "```\n",
    "\n",
    "```\n",
    "Կատարեք բոլոր առաջադրանքները jupyter notebook-ում և անվանեք այն name_last-name_project1.ipynb. Ուղարկեք ինձ zip ֆայլ name_last-name_project1 անունով, որը կպարունակի 2 ֆայլ՝ scrap արված տվյալներով csv ֆայլը և jupyter notebook-ը։ \n",
    "Ուղարկեք zip ֆայլն իմ mail-ին՝ shahanearushanyan@gmail.com\n",
    "```"
   ]
  },
  {
   "cell_type": "markdown",
   "metadata": {},
   "source": [
    "## Task 1.\n",
    "\n",
    "```\n",
    "Scrap Amazon to get data for their best seller books. Get title, author, rating, number of users rated and price information for all available pages of products. (e.g. if there are 10 pages of best seller books, you need to scrap all the pages, not just the first page). Create a pandas dataframe and keep the scrapped information inside the dataframe, in separate columns.\n",
    "```\n",
    "\n",
    "```\n",
    "Scrap արեք Amazon-ի կայքը և ստացեք best seller (լավագույն վաճառվող) գրքերի տվյալները։ Ստացեք վերնագիր, հեղինակ, գնահատական, գնահատող օգտատերերի քանակ և գին բոլոր հասանելի էջերի գրքերի համար։ (Օրինակ՝ եթե կա 10 էջ, ապա պետք է ստանաք բոլոր 10 էջերում տեղ գտած ինֆորմացիան)։ Ստեղծեք pandas dataframe աղյուսակ և այնտեղ պահեք Ձեր ստացած տվյալներն առանձին սյուներով։  \n",
    "```"
   ]
  },
  {
   "cell_type": "code",
   "execution_count": 26,
   "metadata": {},
   "outputs": [],
   "source": [
    "import numpy as np\n",
    "import pandas as pd\n",
    "from urllib.request import urlopen\n",
    "from bs4 import BeautifulSoup\n",
    "import requests\n",
    "import unicodedata2\n",
    "import re"
   ]
  },
  {
   "cell_type": "code",
   "execution_count": 27,
   "metadata": {},
   "outputs": [
    {
     "data": {
      "text/plain": [
       "292"
      ]
     },
     "execution_count": 27,
     "metadata": {},
     "output_type": "execute_result"
    }
   ],
   "source": [
    "292"
   ]
  },
  {
   "cell_type": "code",
   "execution_count": 39,
   "metadata": {},
   "outputs": [
    {
     "ename": "AttributeError",
     "evalue": "'NoneType' object has no attribute 'findAll'",
     "output_type": "error",
     "traceback": [
      "\u001b[1;31m---------------------------------------------------------------------------\u001b[0m",
      "\u001b[1;31mAttributeError\u001b[0m                            Traceback (most recent call last)",
      "\u001b[1;32m<ipython-input-39-9510ce60feee>\u001b[0m in \u001b[0;36m<module>\u001b[1;34m\u001b[0m\n\u001b[0;32m     11\u001b[0m     \u001b[0ms\u001b[0m \u001b[1;33m=\u001b[0m \u001b[0msoup\u001b[0m\u001b[1;33m.\u001b[0m\u001b[0mfind\u001b[0m\u001b[1;33m(\u001b[0m\u001b[1;34m'div'\u001b[0m\u001b[1;33m,\u001b[0m \u001b[0mattrs\u001b[0m \u001b[1;33m=\u001b[0m \u001b[1;33m{\u001b[0m\u001b[1;34m'id'\u001b[0m\u001b[1;33m:\u001b[0m\u001b[1;34m\"zg-center-div\"\u001b[0m\u001b[1;33m}\u001b[0m\u001b[1;33m)\u001b[0m\u001b[1;33m\u001b[0m\u001b[1;33m\u001b[0m\u001b[0m\n\u001b[0;32m     12\u001b[0m \u001b[1;33m\u001b[0m\u001b[0m\n\u001b[1;32m---> 13\u001b[1;33m     \u001b[1;32mfor\u001b[0m \u001b[0md\u001b[0m \u001b[1;32min\u001b[0m \u001b[0ms\u001b[0m\u001b[1;33m.\u001b[0m\u001b[0mfindAll\u001b[0m\u001b[1;33m(\u001b[0m\u001b[1;34m'li'\u001b[0m\u001b[1;33m,\u001b[0m \u001b[0mattrs\u001b[0m\u001b[1;33m=\u001b[0m\u001b[1;33m{\u001b[0m\u001b[1;34m'class'\u001b[0m\u001b[1;33m:\u001b[0m \u001b[1;34m'zg-item-immersion'\u001b[0m\u001b[1;33m}\u001b[0m\u001b[1;33m)\u001b[0m\u001b[1;33m:\u001b[0m\u001b[1;33m\u001b[0m\u001b[1;33m\u001b[0m\u001b[0m\n\u001b[0m\u001b[0;32m     14\u001b[0m         \u001b[0mtitle\u001b[0m \u001b[1;33m=\u001b[0m \u001b[0md\u001b[0m\u001b[1;33m.\u001b[0m\u001b[0mfind\u001b[0m\u001b[1;33m(\u001b[0m\u001b[1;34m'a'\u001b[0m\u001b[1;33m,\u001b[0m \u001b[0mattrs\u001b[0m \u001b[1;33m=\u001b[0m \u001b[1;33m{\u001b[0m\u001b[1;34m'class'\u001b[0m\u001b[1;33m:\u001b[0m \u001b[1;34m'a-link-normal'\u001b[0m\u001b[1;33m}\u001b[0m\u001b[1;33m,\u001b[0m\u001b[1;33m)\u001b[0m\u001b[1;33m.\u001b[0m\u001b[0mtext\u001b[0m\u001b[1;33m.\u001b[0m\u001b[0mstrip\u001b[0m\u001b[1;33m(\u001b[0m\u001b[1;33m)\u001b[0m\u001b[1;33m\u001b[0m\u001b[1;33m\u001b[0m\u001b[0m\n\u001b[0;32m     15\u001b[0m         \u001b[0mauthor\u001b[0m \u001b[1;33m=\u001b[0m \u001b[0md\u001b[0m\u001b[1;33m.\u001b[0m\u001b[0mfind\u001b[0m\u001b[1;33m(\u001b[0m\u001b[1;34m'div'\u001b[0m\u001b[1;33m,\u001b[0m \u001b[0mattrs\u001b[0m \u001b[1;33m=\u001b[0m \u001b[1;33m{\u001b[0m\u001b[1;34m'class'\u001b[0m\u001b[1;33m:\u001b[0m \u001b[1;34m'a-row a-size-small'\u001b[0m\u001b[1;33m}\u001b[0m\u001b[1;33m,\u001b[0m\u001b[1;33m)\u001b[0m\u001b[1;33m.\u001b[0m\u001b[0mtext\u001b[0m\u001b[1;33m.\u001b[0m\u001b[0mstrip\u001b[0m\u001b[1;33m(\u001b[0m\u001b[1;33m)\u001b[0m\u001b[1;33m\u001b[0m\u001b[1;33m\u001b[0m\u001b[0m\n",
      "\u001b[1;31mAttributeError\u001b[0m: 'NoneType' object has no attribute 'findAll'"
     ]
    }
   ],
   "source": [
    "headers = {'User-Agent': 'Mozilla/5.0 (Windows NT 6.3; Win64; x64) AppleWebKit/537.36 (KHTML, like Gecko) Chrome/54.0.2840.71 Safari/537.36'}\n",
    "\n",
    "data_list = []\n",
    "\n",
    "\n",
    "for pagenum in range(1, 3):\n",
    "    \n",
    "    r = requests.get(\"https://www.amazon.com/best-sellers-books-Amazon/zgbs/books/ref=zg_bs_pg_\"+str(pagenum)+\"?_encoding=UTF8&pg=\"+str(pagenum), headers=headers)\n",
    "    content = r.content\n",
    "    soup = BeautifulSoup(content)\n",
    "    s = soup.find('div', attrs = {'id':\"zg-center-div\"})\n",
    "    \n",
    "    for d in s.findAll('li', attrs={'class': 'zg-item-immersion'}):\n",
    "        title = d.find('a', attrs = {'class': 'a-link-normal'},).text.strip()\n",
    "        author = d.find('div', attrs = {'class': 'a-row a-size-small'},).text.strip()\n",
    "        price = d.find('div', attrs = {'class': 'products__item-price'}).text.strip()\n",
    "        # num_users\n",
    "        # rating\n",
    "        data_list.append([title,author,price])"
   ]
  },
  {
   "cell_type": "code",
   "execution_count": 12,
   "metadata": {},
   "outputs": [],
   "source": [
    "df = pd.DataFrame(data_list, columns = [\"title\", \"author\"])"
   ]
  },
  {
   "cell_type": "code",
   "execution_count": 13,
   "metadata": {},
   "outputs": [
    {
     "data": {
      "text/html": [
       "<div>\n",
       "<style scoped>\n",
       "    .dataframe tbody tr th:only-of-type {\n",
       "        vertical-align: middle;\n",
       "    }\n",
       "\n",
       "    .dataframe tbody tr th {\n",
       "        vertical-align: top;\n",
       "    }\n",
       "\n",
       "    .dataframe thead th {\n",
       "        text-align: right;\n",
       "    }\n",
       "</style>\n",
       "<table border=\"1\" class=\"dataframe\">\n",
       "  <thead>\n",
       "    <tr style=\"text-align: right;\">\n",
       "      <th></th>\n",
       "      <th>title</th>\n",
       "      <th>author</th>\n",
       "    </tr>\n",
       "  </thead>\n",
       "  <tbody>\n",
       "    <tr>\n",
       "      <th>0</th>\n",
       "      <td>How to Be Human: An Autistic Man's Guide to Life</td>\n",
       "      <td>Jory Fleming</td>\n",
       "    </tr>\n",
       "    <tr>\n",
       "      <th>1</th>\n",
       "      <td>World Travel: An Irreverent Guide</td>\n",
       "      <td>Anthony Bourdain</td>\n",
       "    </tr>\n",
       "    <tr>\n",
       "      <th>2</th>\n",
       "      <td>Don't Drop the Mic: The Power of Your Words Ca...</td>\n",
       "      <td>T. D. Jakes</td>\n",
       "    </tr>\n",
       "    <tr>\n",
       "      <th>3</th>\n",
       "      <td>Dog Man: Mothering Heights: From the Creator o...</td>\n",
       "      <td>Dav Pilkey</td>\n",
       "    </tr>\n",
       "    <tr>\n",
       "      <th>4</th>\n",
       "      <td>The Midnight Library: A Novel</td>\n",
       "      <td>Matt Haig</td>\n",
       "    </tr>\n",
       "    <tr>\n",
       "      <th>...</th>\n",
       "      <td>...</td>\n",
       "      <td>...</td>\n",
       "    </tr>\n",
       "    <tr>\n",
       "      <th>95</th>\n",
       "      <td>Paint by Sticker Kids: Zoo Animals: Create 10 ...</td>\n",
       "      <td>Workman Publishing</td>\n",
       "    </tr>\n",
       "    <tr>\n",
       "      <th>96</th>\n",
       "      <td>School Zone - Big Preschool Workbook - Ages 3 ...</td>\n",
       "      <td>School Zone</td>\n",
       "    </tr>\n",
       "    <tr>\n",
       "      <th>97</th>\n",
       "      <td>Let That Sh*t Go: A Journal for Leaving Your B...</td>\n",
       "      <td>Monica Sweeney</td>\n",
       "    </tr>\n",
       "    <tr>\n",
       "      <th>98</th>\n",
       "      <td>The Complete Anti-Inflammatory Diet for Beginn...</td>\n",
       "      <td>Dorothy Calimeris</td>\n",
       "    </tr>\n",
       "    <tr>\n",
       "      <th>99</th>\n",
       "      <td>From Blood and Ash (Blood And Ash Series)</td>\n",
       "      <td>Jennifer L. Armentrout</td>\n",
       "    </tr>\n",
       "  </tbody>\n",
       "</table>\n",
       "<p>100 rows × 2 columns</p>\n",
       "</div>"
      ],
      "text/plain": [
       "                                                title                  author\n",
       "0    How to Be Human: An Autistic Man's Guide to Life            Jory Fleming\n",
       "1                   World Travel: An Irreverent Guide        Anthony Bourdain\n",
       "2   Don't Drop the Mic: The Power of Your Words Ca...             T. D. Jakes\n",
       "3   Dog Man: Mothering Heights: From the Creator o...              Dav Pilkey\n",
       "4                       The Midnight Library: A Novel               Matt Haig\n",
       "..                                                ...                     ...\n",
       "95  Paint by Sticker Kids: Zoo Animals: Create 10 ...      Workman Publishing\n",
       "96  School Zone - Big Preschool Workbook - Ages 3 ...             School Zone\n",
       "97  Let That Sh*t Go: A Journal for Leaving Your B...          Monica Sweeney\n",
       "98  The Complete Anti-Inflammatory Diet for Beginn...       Dorothy Calimeris\n",
       "99          From Blood and Ash (Blood And Ash Series)  Jennifer L. Armentrout\n",
       "\n",
       "[100 rows x 2 columns]"
      ]
     },
     "execution_count": 13,
     "metadata": {},
     "output_type": "execute_result"
    }
   ],
   "source": [
    "df"
   ]
  },
  {
   "cell_type": "markdown",
   "metadata": {},
   "source": [
    "## Task 2.\n",
    "\n",
    "```\n",
    "Create classes Library and Book using the skeleton below and following function descriptions.\n",
    "Then use the data you got from Task 1., create an object of type Library and fill it with a list\n",
    "of objects of type Book. Test all the methods that you have implemented.\n",
    "```\n",
    "\n",
    "```\n",
    "Ստեղծեք Library և Book class-երը՝ օգտագործելով տրված կմախքն ու հետևելով ֆունկցիաների նկարագրություններին։ Այնուհետև օգտագործեք Task 1.-ում ստացված տվյալները, ստեղծեք Library տիպի օբյեկտ լցված գիրք տիպի օբյեկտներով։ Փորձարկեք Ձեր գրած բոլոր ֆունկցիաները։ \n",
    "```"
   ]
  },
  {
   "cell_type": "code",
   "execution_count": 6,
   "metadata": {},
   "outputs": [],
   "source": [
    "class Book:\n",
    "    \n",
    "    def __init__(self, title, author, rating, num_users_rated, price):\n",
    "        \"\"\"\n",
    "        Create the attributes title, author, rating, num_users_rated and price\n",
    "        \n",
    "        Ստեղծեք title, author, rating, num_users_rated և price attribute-ները\n",
    "        \"\"\"\n",
    "        self.title = title\n",
    "        self.author = author\n",
    "        self.rating = rating\n",
    "        self.num_users_rated = num_users_rated\n",
    "        self.price = price\n",
    "        \n",
    "        pass\n",
    "    \n",
    "    def pretty_print(self):\n",
    "        \"\"\"\n",
    "        Print book information in the following format:\n",
    "        $title by $author with rating $rating costs $price.\n",
    "        \n",
    "        Տպեք տվյալ գրքին վերաբերող ինֆորմացիան հետևյալ ֆորմատով՝\n",
    "        $title by $author with rating $rating costs $price.\n",
    "        \n",
    "        \"\"\"\n",
    "        print(self.title,\" by \",self.author,\" with rating \",self.rating,\" costs \",self.price)\n",
    "        pass\n",
    "    \n",
    "    def rating_eval(self):\n",
    "        \"\"\"\n",
    "        Evaluates the statistical significance of the rating. The method should return \n",
    "        \"statistically significant rating\" (or ssr) in case more than 5000 users have\n",
    "        rated the following book and should return \"not statistically significant rating\" (or nssr), otherwise.\n",
    "        \n",
    "        Գնահատեք թե որքանով ստատիստիկորեն արժեքավոր է գրքին տրված գնահատականը։ Ֆունկցիան պետք է վերադարձնի \n",
    "        \"statistically significant rating\" (կամ ssr), եթե գիրքը գնահատել է ավելի քան 5000 օգտատեր և  \n",
    "        \"not statistically significant rating\" (կամ nssr)՝ հակառակ դեպքում։\n",
    "        \"\"\"\n",
    "        pass"
   ]
  },
  {
   "cell_type": "code",
   "execution_count": 1,
   "metadata": {},
   "outputs": [],
   "source": [
    "class Library:\n",
    "    \n",
    "    def __init__(self):\n",
    "        \"\"\"\n",
    "        Create an attribute of type list called Book_list which will be an empty list for now.\n",
    "        \n",
    "        Ստեղծեք list տիպի Book_list attribute-ը, որն առայժմ կլինի դատարկ list \n",
    "        \"\"\"\n",
    "        pass\n",
    "    \n",
    "    def get_top_5(self):\n",
    "        \"\"\"\n",
    "        Return the information related to 5 books that have the highest rating using the method pretty_print.\n",
    "        If there are more than 5 books with the same rating, randomly select and show only 5 of them.\n",
    "        \n",
    "        Վերադարձրեք 5 ամենաբարձր գնահատական ունեցող գրքերի վերաբերյալ ինֆորմացիա՝ օգտվելով pretty_print\n",
    "        ֆունկցիայից։ Եթե այդպիսի գրքերը 5-ից ավելի են՝ պատահականության սկզբունքով ընտրեք դրանցից 5-ը։\n",
    "        \"\"\"\n",
    "    \n",
    "    def simple_search(self, title):\n",
    "        \"\"\"\n",
    "        Search a book with required title and print information related to all books with titles exactly \n",
    "        matching the searched title using the method pretty_print.\n",
    "        \n",
    "        Search արեք տրված վերնագրով գիրք (գրքեր) և վերադարձրեք այդ գրքի (գրքերի) մասին ինֆորմացիան՝ օգտվելով \n",
    "        pretty_print ֆունկցիայից։ Վերադարձված գրքերի վերնագրերը պետք է համընկնեն title փոփոխականի արժեքի հետ\n",
    "        \"\"\"\n",
    "        pass\n",
    "    \n",
    "    def complex_search(self, title):\n",
    "        \"\"\"\n",
    "        In this case the user may not remember the exact title of the book. If you have a book(s) with \n",
    "        title exactly matching the searched title, this method should perform just like the method simple_search.\n",
    "        Otherwise, if you don't have any books with the searched title, you should return book(s) that have the\n",
    "        most similar titles. You are free to implement this method however you like. \n",
    "        One version that you can implement in case you don't have other ideas:\n",
    "        return the book(s) with titles containing the most number of words from the searched title \n",
    "        (return the information using the method pretty_print), and if there are no such books, \n",
    "        return \"nothing macthed your search\".\n",
    "        I would be happy to see any other interesting versions of the method :)\n",
    "        \n",
    "        \n",
    "        Այս դեպքում օգտատերը միգուցե չհիշի գրքի կոնկրետ անվանումը կամ այն մի փոքր սխալ հիշի։ Եթե կա գիրք (գրքեր)\n",
    "        որոնց վերնագիրը համընկնում է title փոփոխականի արժեքի հետ, ապա վերադարձրեք այդ գրքին (գրքերին) \n",
    "        վերաբերող ինֆորմացիան՝ օգտվելով pretty_print ֆունկցիայից։ Հակառակ դեպքում, պետք է վերադարձնել այն գրքերի մասին \n",
    "        ինֆորմացիա, որոնց վերնագրերը նման են title փոփոխականում պահված վերնագրի արժեքին։ Ազատ եք\n",
    "        որոշելու այս ֆունկցիայի աշխատանքի տրամաբանությունը։\n",
    "        Որպես հնարավոր տարբերակ (եթե չկան այլ մտքեր) կարող եք վերադարձնել այն գրքերի ինֆորմացին, որոնց\n",
    "        վերնագրերը պարունակում են title փոփոխամանում տրված բառերից ամենաշատ քանակության բառերը ու եթե չկան\n",
    "        այդպիսի գրքեր, վերադարձրեք \"nothing macthed your search\"։ \n",
    "        Ուրախ կլինեմ տեսնել այս ֆունկցիայի հետաքրքիր տարբերակներ :)\n",
    "        \"\"\"\n",
    "        pass"
   ]
  },
  {
   "cell_type": "markdown",
   "metadata": {},
   "source": [
    "## Task 3.\n",
    "\n",
    "```\n",
    "Write a short summary explaining what you have implemented in the 2 Tasks. Don't go too much into details since I can also see your code. Just incorporate some points about interesting decisions or solutions that you have applied. \n",
    "```\n",
    "\n",
    "```\n",
    "Գրեք Ձեր աշխատանքի փոքրիկ ամփոփում, որտեղ կբացատրեք թե ինչպես եք կատարել առաջադրանքները։ Ամփոփումը պետք է լինի շատ կարճ ու ներառի միայն այս կամ այն լուծում տալու վերաբերյալ որոշ բացատրություններ։ Հարկավոր չէ բացատրել ամեն մի փոքր քայլ։ \n",
    "```"
   ]
  },
  {
   "cell_type": "code",
   "execution_count": 3,
   "metadata": {},
   "outputs": [
    {
     "name": "stdout",
     "output_type": "stream",
     "text": [
      "1\n"
     ]
    }
   ],
   "source": [
    "print(1)"
   ]
  },
  {
   "cell_type": "code",
   "execution_count": null,
   "metadata": {},
   "outputs": [],
   "source": []
  }
 ],
 "metadata": {
  "kernelspec": {
   "display_name": "Python 3",
   "language": "python",
   "name": "python3"
  },
  "language_info": {
   "codemirror_mode": {
    "name": "ipython",
    "version": 3
   },
   "file_extension": ".py",
   "mimetype": "text/x-python",
   "name": "python",
   "nbconvert_exporter": "python",
   "pygments_lexer": "ipython3",
   "version": "3.7.6"
  }
 },
 "nbformat": 4,
 "nbformat_minor": 4
}
