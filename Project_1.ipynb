{
 "cells": [
  {
   "cell_type": "markdown",
   "metadata": {},
   "source": [
    "# Project 1.\n",
    "\n",
    "## Deadline: April 23, 22:00 ```Ավելի ուշ ուղարկված աշխատանքներ չեն ընդունվի։```\n",
    "\n",
    "\n",
    "```\n",
    "Complete all the tasks in the jupyter notebook and name it name_last-name_project1.ipynb. Send me a zip file called name_last-name_project1 containing 2 files: the csv file with the data that you have scrapped in Task 1 and the jupyter notebook. \n",
    "Send the zip file to my email: shahanearushanyan@gmail.com\n",
    "```\n",
    "\n",
    "```\n",
    "Կատարեք բոլոր առաջադրանքները jupyter notebook-ում և անվանեք այն name_last-name_project1.ipynb. Ուղարկեք ինձ zip ֆայլ name_last-name_project1 անունով, որը կպարունակի 2 ֆայլ՝ scrap արված տվյալներով csv ֆայլը և jupyter notebook-ը։ \n",
    "Ուղարկեք zip ֆայլն իմ mail-ին՝ shahanearushanyan@gmail.com\n",
    "```"
   ]
  },
  {
   "cell_type": "markdown",
   "metadata": {},
   "source": [
    "## Task 1.\n",
    "\n",
    "```\n",
    "Scrap Amazon to get data for their best seller books. Get title, author, rating, number of users rated and price information for all available pages of products. (e.g. if there are 10 pages of best seller books, you need to scrap all the pages, not just the first page). Create a pandas dataframe and keep the scrapped information inside the dataframe, in separate columns.\n",
    "```\n",
    "\n",
    "```\n",
    "Scrap արեք Amazon-ի կայքը և ստացեք best seller (լավագույն վաճառվող) գրքերի տվյալները։ Ստացեք վերնագիր, հեղինակ, գնահատական, գնահատող օգտատերերի քանակ և գին բոլոր հասանելի էջերի գրքերի համար։ (Օրինակ՝ եթե կա 10 էջ, ապա պետք է ստանաք բոլոր 10 էջերում տեղ գտած ինֆորմացիան)։ Ստեղծեք pandas dataframe աղյուսակ և այնտեղ պահեք Ձեր ստացած տվյալներն առանձին սյուներով։  \n",
    "```"
   ]
  },
  {
   "cell_type": "code",
   "execution_count": 171,
   "metadata": {},
   "outputs": [],
   "source": [
    "import numpy as np\n",
    "import pandas as pd\n",
    "from urllib.request import urlopen\n",
    "from bs4 import BeautifulSoup\n",
    "import requests\n",
    "import unicodedata2\n",
    "import re"
   ]
  },
  {
   "cell_type": "code",
   "execution_count": 172,
   "metadata": {},
   "outputs": [],
   "source": [
    "headers = {'User-Agent': 'Mozilla/5.0 (Windows NT 6.3; Win64; x64) AppleWebKit/537.36 (KHTML, like Gecko) Chrome/54.0.2840.71 Safari/537.36'}\n",
    "\n",
    "data_list = []\n",
    "\n",
    "\n",
    "for pagenum in range(1, 3):\n",
    "    \n",
    "    r = requests.get(\"https://www.amazon.com/best-sellers-books-Amazon/zgbs/books/ref=zg_bs_pg_\"+str(pagenum)+\"?_encoding=UTF8&pg=\"+str(pagenum), headers=headers)\n",
    "    content = r.content\n",
    "    soup = BeautifulSoup(content)\n",
    "    s = soup.find('div', attrs = {'id':\"zg-center-div\"})\n",
    "    \n",
    "    for d in s.findAll('li', attrs={'class': 'zg-item-immersion'}):\n",
    "        title = d.find('a', attrs = {'class': 'a-link-normal'},).text.strip()\n",
    "        author = d.find('div', attrs = {'class': 'a-row a-size-small'},).text.strip()\n",
    "        price = d.find('span', attrs = {'class': 'p13n-sc-price'},).text.strip()\n",
    "        try:\n",
    "            rating = d.find('div', attrs = {'class': 'a-icon-row a-spacing-none'},).text.strip()\n",
    "            num_users_rated = d.find('a', attrs = {'class': 'a-size-small a-link-normal'},).text.strip()\n",
    "            \n",
    "            data_list.append([title, author, price, rating, num_users_rated])\n",
    "            \n",
    "        except:\n",
    "            data_list.append([title, author, price])\n",
    "            "
   ]
  },
  {
   "cell_type": "code",
   "execution_count": 173,
   "metadata": {},
   "outputs": [
    {
     "data": {
      "text/html": [
       "<div>\n",
       "<style scoped>\n",
       "    .dataframe tbody tr th:only-of-type {\n",
       "        vertical-align: middle;\n",
       "    }\n",
       "\n",
       "    .dataframe tbody tr th {\n",
       "        vertical-align: top;\n",
       "    }\n",
       "\n",
       "    .dataframe thead th {\n",
       "        text-align: right;\n",
       "    }\n",
       "</style>\n",
       "<table border=\"1\" class=\"dataframe\">\n",
       "  <thead>\n",
       "    <tr style=\"text-align: right;\">\n",
       "      <th></th>\n",
       "      <th>title</th>\n",
       "      <th>author</th>\n",
       "      <th>price</th>\n",
       "      <th>rating</th>\n",
       "      <th>num_users_rated</th>\n",
       "    </tr>\n",
       "  </thead>\n",
       "  <tbody>\n",
       "    <tr>\n",
       "      <th>0</th>\n",
       "      <td>Shadow and Bone (Grisha Trilogy)</td>\n",
       "      <td>Leigh Bardugo</td>\n",
       "      <td>$7.59</td>\n",
       "      <td>4.4 out of 5 stars\\n\\n8,083</td>\n",
       "      <td>8,083</td>\n",
       "    </tr>\n",
       "    <tr>\n",
       "      <th>1</th>\n",
       "      <td>World Travel: An Irreverent Guide</td>\n",
       "      <td>Anthony Bourdain</td>\n",
       "      <td>$21.00</td>\n",
       "      <td>3.9 out of 5 stars\\n\\n96</td>\n",
       "      <td>96</td>\n",
       "    </tr>\n",
       "    <tr>\n",
       "      <th>2</th>\n",
       "      <td>The Shadow and Bone Trilogy Boxed Set: Shadow ...</td>\n",
       "      <td>Leigh Bardugo</td>\n",
       "      <td>$35.89</td>\n",
       "      <td>4.7 out of 5 stars\\n\\n3,785</td>\n",
       "      <td>3,785</td>\n",
       "    </tr>\n",
       "    <tr>\n",
       "      <th>3</th>\n",
       "      <td>How to Be Human: An Autistic Man's Guide to Life</td>\n",
       "      <td>Jory Fleming</td>\n",
       "      <td>$16.09</td>\n",
       "      <td>4.0 out of 5 stars\\n\\n1</td>\n",
       "      <td>1</td>\n",
       "    </tr>\n",
       "    <tr>\n",
       "      <th>4</th>\n",
       "      <td>The Midnight Library: A Novel</td>\n",
       "      <td>Matt Haig</td>\n",
       "      <td>$13.29</td>\n",
       "      <td>4.4 out of 5 stars\\n\\n62,086</td>\n",
       "      <td>62,086</td>\n",
       "    </tr>\n",
       "  </tbody>\n",
       "</table>\n",
       "</div>"
      ],
      "text/plain": [
       "                                               title            author  \\\n",
       "0                   Shadow and Bone (Grisha Trilogy)     Leigh Bardugo   \n",
       "1                  World Travel: An Irreverent Guide  Anthony Bourdain   \n",
       "2  The Shadow and Bone Trilogy Boxed Set: Shadow ...     Leigh Bardugo   \n",
       "3   How to Be Human: An Autistic Man's Guide to Life      Jory Fleming   \n",
       "4                      The Midnight Library: A Novel         Matt Haig   \n",
       "\n",
       "    price                        rating num_users_rated  \n",
       "0   $7.59   4.4 out of 5 stars\\n\\n8,083           8,083  \n",
       "1  $21.00      3.9 out of 5 stars\\n\\n96              96  \n",
       "2  $35.89   4.7 out of 5 stars\\n\\n3,785           3,785  \n",
       "3  $16.09       4.0 out of 5 stars\\n\\n1               1  \n",
       "4  $13.29  4.4 out of 5 stars\\n\\n62,086          62,086  "
      ]
     },
     "execution_count": 173,
     "metadata": {},
     "output_type": "execute_result"
    }
   ],
   "source": [
    "df = pd.DataFrame(data_list , columns = [\"title\",\"author\",\"price\", \"rating\" , \"num_users_rated\"])\n",
    "df.head()"
   ]
  },
  {
   "cell_type": "code",
   "execution_count": 174,
   "metadata": {},
   "outputs": [
    {
     "data": {
      "text/plain": [
       "title              0\n",
       "author             0\n",
       "price              0\n",
       "rating             9\n",
       "num_users_rated    9\n",
       "dtype: int64"
      ]
     },
     "execution_count": 174,
     "metadata": {},
     "output_type": "execute_result"
    }
   ],
   "source": [
    "df.isnull().sum()"
   ]
  },
  {
   "cell_type": "code",
   "execution_count": 175,
   "metadata": {},
   "outputs": [],
   "source": [
    "df1 = df.dropna(how = \"any\")"
   ]
  },
  {
   "cell_type": "code",
   "execution_count": 176,
   "metadata": {},
   "outputs": [
    {
     "data": {
      "text/plain": [
       "title              0\n",
       "author             0\n",
       "price              0\n",
       "rating             0\n",
       "num_users_rated    0\n",
       "dtype: int64"
      ]
     },
     "execution_count": 176,
     "metadata": {},
     "output_type": "execute_result"
    }
   ],
   "source": [
    "df1.isnull().sum()"
   ]
  },
  {
   "cell_type": "code",
   "execution_count": 177,
   "metadata": {},
   "outputs": [
    {
     "name": "stderr",
     "output_type": "stream",
     "text": [
      "D:\\anaconda\\lib\\site-packages\\IPython\\core\\interactiveshell.py:3331: SettingWithCopyWarning: \n",
      "A value is trying to be set on a copy of a slice from a DataFrame\n",
      "\n",
      "See the caveats in the documentation: https://pandas.pydata.org/pandas-docs/stable/user_guide/indexing.html#returning-a-view-versus-a-copy\n",
      "  exec(code_obj, self.user_global_ns, self.user_ns)\n"
     ]
    }
   ],
   "source": [
    "for i in df1.index:\n",
    "    df1[\"rating\"][i] = df1[\"rating\"][i][0:3]"
   ]
  },
  {
   "cell_type": "code",
   "execution_count": 178,
   "metadata": {},
   "outputs": [
    {
     "data": {
      "text/html": [
       "<div>\n",
       "<style scoped>\n",
       "    .dataframe tbody tr th:only-of-type {\n",
       "        vertical-align: middle;\n",
       "    }\n",
       "\n",
       "    .dataframe tbody tr th {\n",
       "        vertical-align: top;\n",
       "    }\n",
       "\n",
       "    .dataframe thead th {\n",
       "        text-align: right;\n",
       "    }\n",
       "</style>\n",
       "<table border=\"1\" class=\"dataframe\">\n",
       "  <thead>\n",
       "    <tr style=\"text-align: right;\">\n",
       "      <th></th>\n",
       "      <th>title</th>\n",
       "      <th>author</th>\n",
       "      <th>price</th>\n",
       "      <th>rating</th>\n",
       "      <th>num_users_rated</th>\n",
       "    </tr>\n",
       "  </thead>\n",
       "  <tbody>\n",
       "    <tr>\n",
       "      <th>0</th>\n",
       "      <td>Shadow and Bone (Grisha Trilogy)</td>\n",
       "      <td>Leigh Bardugo</td>\n",
       "      <td>$7.59</td>\n",
       "      <td>4.4</td>\n",
       "      <td>8,083</td>\n",
       "    </tr>\n",
       "    <tr>\n",
       "      <th>1</th>\n",
       "      <td>World Travel: An Irreverent Guide</td>\n",
       "      <td>Anthony Bourdain</td>\n",
       "      <td>$21.00</td>\n",
       "      <td>3.9</td>\n",
       "      <td>96</td>\n",
       "    </tr>\n",
       "    <tr>\n",
       "      <th>2</th>\n",
       "      <td>The Shadow and Bone Trilogy Boxed Set: Shadow ...</td>\n",
       "      <td>Leigh Bardugo</td>\n",
       "      <td>$35.89</td>\n",
       "      <td>4.7</td>\n",
       "      <td>3,785</td>\n",
       "    </tr>\n",
       "    <tr>\n",
       "      <th>3</th>\n",
       "      <td>How to Be Human: An Autistic Man's Guide to Life</td>\n",
       "      <td>Jory Fleming</td>\n",
       "      <td>$16.09</td>\n",
       "      <td>4.0</td>\n",
       "      <td>1</td>\n",
       "    </tr>\n",
       "    <tr>\n",
       "      <th>4</th>\n",
       "      <td>The Midnight Library: A Novel</td>\n",
       "      <td>Matt Haig</td>\n",
       "      <td>$13.29</td>\n",
       "      <td>4.4</td>\n",
       "      <td>62,086</td>\n",
       "    </tr>\n",
       "  </tbody>\n",
       "</table>\n",
       "</div>"
      ],
      "text/plain": [
       "                                               title            author  \\\n",
       "0                   Shadow and Bone (Grisha Trilogy)     Leigh Bardugo   \n",
       "1                  World Travel: An Irreverent Guide  Anthony Bourdain   \n",
       "2  The Shadow and Bone Trilogy Boxed Set: Shadow ...     Leigh Bardugo   \n",
       "3   How to Be Human: An Autistic Man's Guide to Life      Jory Fleming   \n",
       "4                      The Midnight Library: A Novel         Matt Haig   \n",
       "\n",
       "    price rating num_users_rated  \n",
       "0   $7.59    4.4           8,083  \n",
       "1  $21.00    3.9              96  \n",
       "2  $35.89    4.7           3,785  \n",
       "3  $16.09    4.0               1  \n",
       "4  $13.29    4.4          62,086  "
      ]
     },
     "execution_count": 178,
     "metadata": {},
     "output_type": "execute_result"
    }
   ],
   "source": [
    "df1.head()"
   ]
  },
  {
   "cell_type": "markdown",
   "metadata": {},
   "source": [
    "## Task 2.\n",
    "\n",
    "```\n",
    "Create classes Library and Book using the skeleton below and following function descriptions.\n",
    "Then use the data you got from Task 1., create an object of type Library and fill it with a list\n",
    "of objects of type Book. Test all the methods that you have implemented.\n",
    "```\n",
    "\n",
    "```\n",
    "Ստեղծեք Library և Book class-երը՝ օգտագործելով տրված կմախքն ու հետևելով ֆունկցիաների նկարագրություններին։ Այնուհետև օգտագործեք Task 1.-ում ստացված տվյալները, ստեղծեք Library տիպի օբյեկտ լցված գիրք տիպի օբյեկտներով։ Փորձարկեք Ձեր գրած բոլոր ֆունկցիաները։ \n",
    "```"
   ]
  },
  {
   "cell_type": "code",
   "execution_count": 235,
   "metadata": {},
   "outputs": [],
   "source": [
    "class Book:\n",
    "    \n",
    "    def __init__(self, title, author, price,  rating, num_users_rated):\n",
    "        \n",
    "        self.title = title\n",
    "        self.author = author\n",
    "        self.rating = rating\n",
    "        self.num_users_rated = num_users_rated\n",
    "        self.price = price\n",
    "        \n",
    "        pass\n",
    "    \n",
    "    def pretty_print(self):\n",
    "        \n",
    "        print(self.title,\" by \",self.author,\" with rating \" , self.rating ,\" costs \",self.price)\n",
    "        pass\n",
    "    \n",
    "    def rating_eval(self):\n",
    "       \n",
    "        if self.num_users > 5000:\n",
    "            return \"statistically significant rating\"\n",
    "        else:\n",
    "            return \"not statistically significant rating\"\n",
    "        \n",
    "        pass"
   ]
  },
  {
   "cell_type": "code",
   "execution_count": 236,
   "metadata": {},
   "outputs": [],
   "source": [
    "title0 = df[0:1][\"title\"][0]\n",
    "author0 = df[0:1][\"author\"][0]\n",
    "price0 = df[0:1][\"price\"][0]\n",
    "rating0 = df[0:1][\"rating\"][0]\n",
    "num_users0 = df[0:1][\"num_users_rated\"][0]"
   ]
  },
  {
   "cell_type": "code",
   "execution_count": 237,
   "metadata": {},
   "outputs": [],
   "source": [
    "book0 = Book(title0,author0,price0,rating0,num_users0)"
   ]
  },
  {
   "cell_type": "code",
   "execution_count": 240,
   "metadata": {},
   "outputs": [
    {
     "name": "stdout",
     "output_type": "stream",
     "text": [
      "Shadow and Bone (Grisha Trilogy)  by  Leigh Bardugo  with rating  4.4 out of 5 stars\n",
      "\n",
      "8,083  costs  $7.59\n"
     ]
    }
   ],
   "source": [
    "book0.pretty_print()"
   ]
  },
  {
   "cell_type": "code",
   "execution_count": 241,
   "metadata": {},
   "outputs": [],
   "source": [
    "df1_top = df1.groupby([\"rating\"]).max()[::-1]"
   ]
  },
  {
   "cell_type": "code",
   "execution_count": 242,
   "metadata": {},
   "outputs": [
    {
     "data": {
      "text/html": [
       "<div>\n",
       "<style scoped>\n",
       "    .dataframe tbody tr th:only-of-type {\n",
       "        vertical-align: middle;\n",
       "    }\n",
       "\n",
       "    .dataframe tbody tr th {\n",
       "        vertical-align: top;\n",
       "    }\n",
       "\n",
       "    .dataframe thead th {\n",
       "        text-align: right;\n",
       "    }\n",
       "</style>\n",
       "<table border=\"1\" class=\"dataframe\">\n",
       "  <thead>\n",
       "    <tr style=\"text-align: right;\">\n",
       "      <th></th>\n",
       "      <th>title</th>\n",
       "      <th>author</th>\n",
       "      <th>price</th>\n",
       "      <th>num_users_rated</th>\n",
       "    </tr>\n",
       "    <tr>\n",
       "      <th>rating</th>\n",
       "      <th></th>\n",
       "      <th></th>\n",
       "      <th></th>\n",
       "      <th></th>\n",
       "    </tr>\n",
       "  </thead>\n",
       "  <tbody>\n",
       "    <tr>\n",
       "      <th>5.0</th>\n",
       "      <td>Woman Evolve: Break Up with Your Fears and Rev...</td>\n",
       "      <td>T. D. Jakes</td>\n",
       "      <td>$7.99</td>\n",
       "      <td>74</td>\n",
       "    </tr>\n",
       "    <tr>\n",
       "      <th>4.9</th>\n",
       "      <td>The Women of the Bible Speak: The Wisdom of 16...</td>\n",
       "      <td>Voddie T. Baucham Jr.</td>\n",
       "      <td>$9.72</td>\n",
       "      <td>947</td>\n",
       "    </tr>\n",
       "    <tr>\n",
       "      <th>4.8</th>\n",
       "      <td>Where the Crawdads Sing</td>\n",
       "      <td>Workman Publishing</td>\n",
       "      <td>$9.98</td>\n",
       "      <td>970</td>\n",
       "    </tr>\n",
       "    <tr>\n",
       "      <th>4.7</th>\n",
       "      <td>Think and Grow Rich: The Landmark Bestseller N...</td>\n",
       "      <td>Walter Isaacson</td>\n",
       "      <td>$9.59</td>\n",
       "      <td>9,569</td>\n",
       "    </tr>\n",
       "    <tr>\n",
       "      <th>4.6</th>\n",
       "      <td>We Were Liars</td>\n",
       "      <td>Wonder House Books</td>\n",
       "      <td>$9.91</td>\n",
       "      <td>9,547</td>\n",
       "    </tr>\n",
       "  </tbody>\n",
       "</table>\n",
       "</div>"
      ],
      "text/plain": [
       "                                                    title  \\\n",
       "rating                                                      \n",
       "5.0     Woman Evolve: Break Up with Your Fears and Rev...   \n",
       "4.9     The Women of the Bible Speak: The Wisdom of 16...   \n",
       "4.8                               Where the Crawdads Sing   \n",
       "4.7     Think and Grow Rich: The Landmark Bestseller N...   \n",
       "4.6                                         We Were Liars   \n",
       "\n",
       "                       author  price num_users_rated  \n",
       "rating                                                \n",
       "5.0               T. D. Jakes  $7.99              74  \n",
       "4.9     Voddie T. Baucham Jr.  $9.72             947  \n",
       "4.8        Workman Publishing  $9.98             970  \n",
       "4.7           Walter Isaacson  $9.59           9,569  \n",
       "4.6        Wonder House Books  $9.91           9,547  "
      ]
     },
     "execution_count": 242,
     "metadata": {},
     "output_type": "execute_result"
    }
   ],
   "source": [
    "df1_top[:5]"
   ]
  },
  {
   "cell_type": "code",
   "execution_count": 243,
   "metadata": {},
   "outputs": [
    {
     "data": {
      "text/plain": [
       "'5.0'"
      ]
     },
     "execution_count": 243,
     "metadata": {},
     "output_type": "execute_result"
    }
   ],
   "source": [
    "df1_top.index[0]"
   ]
  },
  {
   "cell_type": "code",
   "execution_count": 244,
   "metadata": {},
   "outputs": [],
   "source": [
    "class Library:\n",
    "    \n",
    "    def __init__(self,df):\n",
    "        \"\"\"\n",
    "        Create an attribute of type list called Book_list which will be an empty list for now.\n",
    "        \n",
    "        Ստեղծեք list տիպի Book_list attribute-ը, որն առայժմ կլինի դատարկ list \n",
    "        \"\"\"\n",
    "        self.Book_list = []\n",
    "        self.df = df \n",
    "        pass\n",
    "    \n",
    "    def get_top_5(self):\n",
    "        \"\"\"\n",
    "        Return the information related to 5 books that have the highest rating using the method pretty_print.\n",
    "        If there are more than 5 books with the same rating, randomly select and show only 5 of them.\n",
    "        \n",
    "        Վերադարձրեք 5 ամենաբարձր գնահատական ունեցող գրքերի վերաբերյալ ինֆորմացիա՝ օգտվելով pretty_print\n",
    "        ֆունկցիայից։ Եթե այդպիսի գրքերը 5-ից ավելի են՝ պատահականության սկզբունքով ընտրեք դրանցից 5-ը։\n",
    "        \"\"\"\n",
    "       \n",
    "    \n",
    "        df_top = self.df.groupby([\"rating\"]).max()[::-1]\n",
    "        index_r = df_top.index\n",
    "        \n",
    "        title0 = df_top[0:1][\"title\"][0]\n",
    "        author0 = df_top[0:1][\"author\"][0]\n",
    "        price0 = df_top[0:1][\"price\"][0]\n",
    "        rating0 = index_r[0]\n",
    "        num_users0 = df_top[0:1][\"num_users_rated\"][0]\n",
    "        book0 = Book(title0,author0,price0,rating0,num_users0)\n",
    "        book0.pretty_print()\n",
    "        print(\"------------------------------------------------------\")\n",
    "        title1 = df_top[1:2][\"title\"][0]\n",
    "        author1 = df_top[1:2][\"author\"][0]\n",
    "        price1 = df_top[1:2][\"price\"][0]\n",
    "        rating1 = index_r[1]\n",
    "        num_users1 = df_top[1:2][\"num_users_rated\"][0]\n",
    "        book1 = Book(title1,author1,price1,rating1,num_users1)\n",
    "        book1.pretty_print()\n",
    "        print(\"------------------------------------------------------\")\n",
    "        title2 = df_top[2:3][\"title\"][0]\n",
    "        author2 = df_top[2:3][\"author\"][0]\n",
    "        price2 = df_top[2:3][\"price\"][0]\n",
    "        rating2 = index_r[2]\n",
    "        num_users2 = df_top[2:3][\"num_users_rated\"][0]\n",
    "        book2 = Book(title2,author2,price2,rating2,num_users2)\n",
    "        book2.pretty_print()\n",
    "        print(\"------------------------------------------------------\")\n",
    "        title3 = df_top[3:4][\"title\"][0]\n",
    "        author3 = df_top[3:4][\"author\"][0]\n",
    "        price3 = df_top[3:4][\"price\"][0]\n",
    "        rating3 = index_r[3]\n",
    "        num_users3 = df_top[3:4][\"num_users_rated\"][0]\n",
    "        book3 = Book(title3,author3,price3,rating3,num_users3)\n",
    "        book3.pretty_print()\n",
    "        print(\"------------------------------------------------------\")\n",
    "        title4 = df_top[4:5][\"title\"][0]\n",
    "        author4 = df_top[4:5][\"author\"][0]\n",
    "        price4 = df_top[4:5][\"price\"][0]\n",
    "        rating4 = index_r[4]\n",
    "        num_users4 = df_top[4:5][\"num_users_rated\"][0]\n",
    "        book4 = Book(title4,author4,price4,rating4,num_users4)\n",
    "        book4.pretty_print()\n",
    "        \n",
    "        \n",
    "        \n",
    "        \n",
    "        \n",
    "    def simple_search(self, title):\n",
    "        \"\"\"\n",
    "        Search a book with required title and print information related to all books with titles exactly \n",
    "        matching the searched title using the method pretty_print.\n",
    "        \n",
    "        Search արեք տրված վերնագրով գիրք (գրքեր) և վերադարձրեք այդ գրքի (գրքերի) մասին ինֆորմացիան՝ օգտվելով \n",
    "        pretty_print ֆունկցիայից։ Վերադարձված գրքերի վերնագրերը պետք է համընկնեն title փոփոխականի արժեքի հետ\n",
    "        \"\"\"\n",
    "        pass\n",
    "    \n",
    "    def complex_search(self, title):\n",
    "        \"\"\"\n",
    "        In this case the user may not remember the exact title of the book. If you have a book(s) with \n",
    "        title exactly matching the searched title, this method should perform just like the method simple_search.\n",
    "        Otherwise, if you don't have any books with the searched title, you should return book(s) that have the\n",
    "        most similar titles. You are free to implement this method however you like. \n",
    "        One version that you can implement in case you don't have other ideas:\n",
    "        return the book(s) with titles containing the most number of words from the searched title \n",
    "        (return the information using the method pretty_print), and if there are no such books, \n",
    "        return \"nothing macthed your search\".\n",
    "        I would be happy to see any other interesting versions of the method :)\n",
    "        \n",
    "        \n",
    "        Այս դեպքում օգտատերը միգուցե չհիշի գրքի կոնկրետ անվանումը կամ այն մի փոքր սխալ հիշի։ Եթե կա գիրք (գրքեր)\n",
    "        որոնց վերնագիրը համընկնում է title փոփոխականի արժեքի հետ, ապա վերադարձրեք այդ գրքին (գրքերին) \n",
    "        վերաբերող ինֆորմացիան՝ օգտվելով pretty_print ֆունկցիայից։ Հակառակ դեպքում, պետք է վերադարձնել այն գրքերի մասին \n",
    "        ինֆորմացիա, որոնց վերնագրերը նման են title փոփոխականում պահված վերնագրի արժեքին։ Ազատ եք\n",
    "        որոշելու այս ֆունկցիայի աշխատանքի տրամաբանությունը։\n",
    "        Որպես հնարավոր տարբերակ (եթե չկան այլ մտքեր) կարող եք վերադարձնել այն գրքերի ինֆորմացին, որոնց\n",
    "        վերնագրերը պարունակում են title փոփոխամանում տրված բառերից ամենաշատ քանակության բառերը ու եթե չկան\n",
    "        այդպիսի գրքեր, վերադարձրեք \"nothing macthed your search\"։ \n",
    "        Ուրախ կլինեմ տեսնել այս ֆունկցիայի հետաքրքիր տարբերակներ :)\n",
    "        \"\"\"\n",
    "        pass"
   ]
  },
  {
   "cell_type": "code",
   "execution_count": 245,
   "metadata": {},
   "outputs": [
    {
     "name": "stdout",
     "output_type": "stream",
     "text": [
      "Woman Evolve: Break Up with Your Fears and Revolutionize Your Life  by  T. D. Jakes  with rating  5.0  costs  $7.99\n",
      "------------------------------------------------------\n",
      "The Women of the Bible Speak: The Wisdom of 16 Women and Their Lessons for Today  by  Voddie T. Baucham Jr.  with rating  4.9  costs  $9.72\n",
      "------------------------------------------------------\n",
      "Where the Crawdads Sing  by  Workman Publishing  with rating  4.8  costs  $9.98\n",
      "------------------------------------------------------\n",
      "Think and Grow Rich: The Landmark Bestseller Now Revised and Updated for the 21st Century (Think and Grow Rich Series)  by  Walter Isaacson  with rating  4.7  costs  $9.59\n",
      "------------------------------------------------------\n",
      "We Were Liars  by  Wonder House Books  with rating  4.6  costs  $9.91\n"
     ]
    }
   ],
   "source": [
    "l1 = Library(df1)\n",
    "l1.get_top_5()"
   ]
  },
  {
   "cell_type": "markdown",
   "metadata": {},
   "source": [
    "## Task 3.\n",
    "\n",
    "```\n",
    "Write a short summary explaining what you have implemented in the 2 Tasks. Don't go too much into details since I can also see your code. Just incorporate some points about interesting decisions or solutions that you have applied. \n",
    "```\n",
    "\n",
    "```\n",
    "Գրեք Ձեր աշխատանքի փոքրիկ ամփոփում, որտեղ կբացատրեք թե ինչպես եք կատարել առաջադրանքները։ Ամփոփումը պետք է լինի շատ կարճ ու ներառի միայն այս կամ այն լուծում տալու վերաբերյալ որոշ բացատրություններ։ Հարկավոր չէ բացատրել ամեն մի փոքր քայլ։ \n",
    "```"
   ]
  },
  {
   "cell_type": "code",
   "execution_count": null,
   "metadata": {},
   "outputs": [],
   "source": []
  },
  {
   "cell_type": "code",
   "execution_count": null,
   "metadata": {},
   "outputs": [],
   "source": []
  }
 ],
 "metadata": {
  "kernelspec": {
   "display_name": "Python 3",
   "language": "python",
   "name": "python3"
  },
  "language_info": {
   "codemirror_mode": {
    "name": "ipython",
    "version": 3
   },
   "file_extension": ".py",
   "mimetype": "text/x-python",
   "name": "python",
   "nbconvert_exporter": "python",
   "pygments_lexer": "ipython3",
   "version": "3.7.6"
  }
 },
 "nbformat": 4,
 "nbformat_minor": 4
}
