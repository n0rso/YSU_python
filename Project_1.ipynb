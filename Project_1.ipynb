{
 "cells": [
  {
   "cell_type": "markdown",
   "metadata": {},
   "source": [
    "# Project 1.\n",
    "\n",
    "## Deadline: April 23, 22:00 ```Ավելի ուշ ուղարկված աշխատանքներ չեն ընդունվի։```\n",
    "\n",
    "\n",
    "```\n",
    "Complete all the tasks in the jupyter notebook and name it name_last-name_project1.ipynb. Send me a zip file called name_last-name_project1 containing 2 files: the csv file with the data that you have scrapped in Task 1 and the jupyter notebook. \n",
    "Send the zip file to my email: shahanearushanyan@gmail.com\n",
    "```\n",
    "\n",
    "```\n",
    "Կատարեք բոլոր առաջադրանքները jupyter notebook-ում և անվանեք այն name_last-name_project1.ipynb. Ուղարկեք ինձ zip ֆայլ name_last-name_project1 անունով, որը կպարունակի 2 ֆայլ՝ scrap արված տվյալներով csv ֆայլը և jupyter notebook-ը։ \n",
    "Ուղարկեք zip ֆայլն իմ mail-ին՝ shahanearushanyan@gmail.com\n",
    "```"
   ]
  },
  {
   "cell_type": "markdown",
   "metadata": {},
   "source": [
    "## Task 1.\n",
    "\n",
    "```\n",
    "Scrap Amazon to get data for their best seller books. Get title, author, rating, number of users rated and price information for all available pages of products. (e.g. if there are 10 pages of best seller books, you need to scrap all the pages, not just the first page). Create a pandas dataframe and keep the scrapped information inside the dataframe, in separate columns.\n",
    "```\n",
    "\n",
    "```\n",
    "Scrap արեք Amazon-ի կայքը և ստացեք best seller (լավագույն վաճառվող) գրքերի տվյալները։ Ստացեք վերնագիր, հեղինակ, գնահատական, գնահատող օգտատերերի քանակ և գին բոլոր հասանելի էջերի գրքերի համար։ (Օրինակ՝ եթե կա 10 էջ, ապա պետք է ստանաք բոլոր 10 էջերում տեղ գտած ինֆորմացիան)։ Ստեղծեք pandas dataframe աղյուսակ և այնտեղ պահեք Ձեր ստացած տվյալներն առանձին սյուներով։  \n",
    "```"
   ]
  },
  {
   "cell_type": "code",
   "execution_count": 1,
   "metadata": {},
   "outputs": [],
   "source": [
    "import numpy as np\n",
    "import pandas as pd\n",
    "from urllib.request import urlopen\n",
    "from bs4 import BeautifulSoup\n",
    "import requests\n",
    "import unicodedata2\n",
    "import re"
   ]
  },
  {
   "cell_type": "code",
   "execution_count": 3,
   "metadata": {},
   "outputs": [],
   "source": [
    "headers = {'User-Agent': 'Mozilla/5.0 (Windows NT 6.3; Win64; x64) AppleWebKit/537.36 (KHTML, like Gecko) Chrome/54.0.2840.71 Safari/537.36'}\n",
    "\n",
    "data_list = []\n",
    "\n",
    "\n",
    "for pagenum in range(1, 3):\n",
    "    \n",
    "    r = requests.get(\"https://www.amazon.com/best-sellers-books-Amazon/zgbs/books/ref=zg_bs_pg_\"+str(pagenum)+\"?_encoding=UTF8&pg=\"+str(pagenum), headers=headers)\n",
    "    content = r.content\n",
    "    soup = BeautifulSoup(content)\n",
    "    s = soup.find('div', attrs = {'id':\"zg-center-div\"})\n",
    "    \n",
    "    for d in s.findAll('li', attrs={'class': 'zg-item-immersion'}):\n",
    "        title = d.find('a', attrs = {'class': 'a-link-normal'},).text.strip()\n",
    "        author = d.find('div', attrs = {'class': 'a-row a-size-small'},).text.strip()\n",
    "        price = d.find('span', attrs = {'class': 'p13n-sc-price'},).text.strip()\n",
    "        try:\n",
    "            rating = d.find('div', attrs = {'class': 'a-icon-row a-spacing-none'},).text.strip()\n",
    "            num_users_rated = d.find('a', attrs = {'class': 'a-size-small a-link-normal'},).text.strip()\n",
    "            \n",
    "            data_list.append([title, author, price, rating, num_users_rated])\n",
    "            \n",
    "        except:\n",
    "            data_list.append([title, author, price])\n",
    "            "
   ]
  },
  {
   "cell_type": "code",
   "execution_count": 7,
   "metadata": {},
   "outputs": [
    {
     "data": {
      "text/html": [
       "<div>\n",
       "<style scoped>\n",
       "    .dataframe tbody tr th:only-of-type {\n",
       "        vertical-align: middle;\n",
       "    }\n",
       "\n",
       "    .dataframe tbody tr th {\n",
       "        vertical-align: top;\n",
       "    }\n",
       "\n",
       "    .dataframe thead th {\n",
       "        text-align: right;\n",
       "    }\n",
       "</style>\n",
       "<table border=\"1\" class=\"dataframe\">\n",
       "  <thead>\n",
       "    <tr style=\"text-align: right;\">\n",
       "      <th></th>\n",
       "      <th>title</th>\n",
       "      <th>author</th>\n",
       "      <th>price</th>\n",
       "      <th>rating</th>\n",
       "      <th>num_users_rated</th>\n",
       "    </tr>\n",
       "  </thead>\n",
       "  <tbody>\n",
       "    <tr>\n",
       "      <th>0</th>\n",
       "      <td>Shadow and Bone (Grisha Trilogy)</td>\n",
       "      <td>Leigh Bardugo</td>\n",
       "      <td>$7.59</td>\n",
       "      <td>4.4 out of 5 stars\\n\\n8,050</td>\n",
       "      <td>8,050</td>\n",
       "    </tr>\n",
       "    <tr>\n",
       "      <th>1</th>\n",
       "      <td>World Travel: An Irreverent Guide</td>\n",
       "      <td>Anthony Bourdain</td>\n",
       "      <td>$21.00</td>\n",
       "      <td>3.8 out of 5 stars\\n\\n89</td>\n",
       "      <td>89</td>\n",
       "    </tr>\n",
       "    <tr>\n",
       "      <th>2</th>\n",
       "      <td>The Shadow and Bone Trilogy Boxed Set: Shadow ...</td>\n",
       "      <td>Leigh Bardugo</td>\n",
       "      <td>$35.89</td>\n",
       "      <td>4.7 out of 5 stars\\n\\n3,780</td>\n",
       "      <td>3,780</td>\n",
       "    </tr>\n",
       "    <tr>\n",
       "      <th>3</th>\n",
       "      <td>How to Be Human: An Autistic Man's Guide to Life</td>\n",
       "      <td>Jory Fleming</td>\n",
       "      <td>$16.09</td>\n",
       "      <td>4.0 out of 5 stars\\n\\n1</td>\n",
       "      <td>1</td>\n",
       "    </tr>\n",
       "    <tr>\n",
       "      <th>4</th>\n",
       "      <td>The Midnight Library: A Novel</td>\n",
       "      <td>Matt Haig</td>\n",
       "      <td>$13.29</td>\n",
       "      <td>4.4 out of 5 stars\\n\\n61,937</td>\n",
       "      <td>61,937</td>\n",
       "    </tr>\n",
       "  </tbody>\n",
       "</table>\n",
       "</div>"
      ],
      "text/plain": [
       "                                               title            author  \\\n",
       "0                   Shadow and Bone (Grisha Trilogy)     Leigh Bardugo   \n",
       "1                  World Travel: An Irreverent Guide  Anthony Bourdain   \n",
       "2  The Shadow and Bone Trilogy Boxed Set: Shadow ...     Leigh Bardugo   \n",
       "3   How to Be Human: An Autistic Man's Guide to Life      Jory Fleming   \n",
       "4                      The Midnight Library: A Novel         Matt Haig   \n",
       "\n",
       "    price                        rating num_users_rated  \n",
       "0   $7.59   4.4 out of 5 stars\\n\\n8,050           8,050  \n",
       "1  $21.00      3.8 out of 5 stars\\n\\n89              89  \n",
       "2  $35.89   4.7 out of 5 stars\\n\\n3,780           3,780  \n",
       "3  $16.09       4.0 out of 5 stars\\n\\n1               1  \n",
       "4  $13.29  4.4 out of 5 stars\\n\\n61,937          61,937  "
      ]
     },
     "execution_count": 7,
     "metadata": {},
     "output_type": "execute_result"
    }
   ],
   "source": [
    "df = pd.DataFrame(data_list , columns = [\"title\",\"author\",\"price\", \"rating\" , \"num_users_rated\"])\n",
    "df.head()"
   ]
  },
  {
   "cell_type": "markdown",
   "metadata": {},
   "source": [
    "## Task 2.\n",
    "\n",
    "```\n",
    "Create classes Library and Book using the skeleton below and following function descriptions.\n",
    "Then use the data you got from Task 1., create an object of type Library and fill it with a list\n",
    "of objects of type Book. Test all the methods that you have implemented.\n",
    "```\n",
    "\n",
    "```\n",
    "Ստեղծեք Library և Book class-երը՝ օգտագործելով տրված կմախքն ու հետևելով ֆունկցիաների նկարագրություններին։ Այնուհետև օգտագործեք Task 1.-ում ստացված տվյալները, ստեղծեք Library տիպի օբյեկտ լցված գիրք տիպի օբյեկտներով։ Փորձարկեք Ձեր գրած բոլոր ֆունկցիաները։ \n",
    "```"
   ]
  },
  {
   "cell_type": "code",
   "execution_count": 8,
   "metadata": {},
   "outputs": [],
   "source": [
    "class Book:\n",
    "    \n",
    "    def __init__(self, title, author, rating, num_users_rated, price):\n",
    "        \"\"\"\n",
    "        Create the attributes title, author, rating, num_users_rated and price\n",
    "        \n",
    "        Ստեղծեք title, author, rating, num_users_rated և price attribute-ները\n",
    "        \"\"\"\n",
    "        self.title = title\n",
    "        self.author = author\n",
    "        self.rating = rating\n",
    "        self.num_users_rated = num_users_rated\n",
    "        self.price = price\n",
    "        \n",
    "        pass\n",
    "    \n",
    "    def pretty_print(self):\n",
    "        \"\"\"\n",
    "        Print book information in the following format:\n",
    "        $title by $author with rating $rating costs $price.\n",
    "        \n",
    "        Տպեք տվյալ գրքին վերաբերող ինֆորմացիան հետևյալ ֆորմատով՝\n",
    "        $title by $author with rating $rating costs $price.\n",
    "        \n",
    "        \"\"\"\n",
    "        print(self.title,\" by \",self.author,\" with rating \",self.rating,\" costs \",self.price)\n",
    "        pass\n",
    "    \n",
    "    def rating_eval(self):\n",
    "        \"\"\"\n",
    "        Evaluates the statistical significance of the rating. The method should return \n",
    "        \"statistically significant rating\" (or ssr) in case more than 5000 users have\n",
    "        rated the following book and should return \"not statistically significant rating\" (or nssr), otherwise.\n",
    "        \n",
    "        Գնահատեք թե որքանով ստատիստիկորեն արժեքավոր է գրքին տրված գնահատականը։ Ֆունկցիան պետք է վերադարձնի \n",
    "        \"statistically significant rating\" (կամ ssr), եթե գիրքը գնահատել է ավելի քան 5000 օգտատեր և  \n",
    "        \"not statistically significant rating\" (կամ nssr)՝ հակառակ դեպքում։\n",
    "        \"\"\"\n",
    "        if self.num_users > 5000:\n",
    "            return \"statistically significant rating\"\n",
    "        else:\n",
    "            return \"not statistically significant rating\"\n",
    "        \n",
    "        pass"
   ]
  },
  {
   "cell_type": "code",
   "execution_count": 13,
   "metadata": {},
   "outputs": [],
   "source": [
    "title0 = df[0:1][\"title\"][0]\n",
    "author0 = df[0:1][\"author\"][0]\n",
    "price0 = df[0:1][\"price\"][0]\n",
    "rating0 = df[0:1][\"rating\"][0]\n",
    "num_users0 = df[0:1][\"num_users_rated\"][0]"
   ]
  },
  {
   "cell_type": "code",
   "execution_count": 14,
   "metadata": {},
   "outputs": [],
   "source": [
    "book0 = Book(title0,author0,price0,rating0,num_users0)"
   ]
  },
  {
   "cell_type": "code",
   "execution_count": 15,
   "metadata": {},
   "outputs": [
    {
     "name": "stdout",
     "output_type": "stream",
     "text": [
      "Shadow and Bone (Grisha Trilogy)  by  Leigh Bardugo  with rating  $7.59  costs  8,050\n"
     ]
    }
   ],
   "source": [
    "book0.pretty_print()"
   ]
  },
  {
   "cell_type": "code",
   "execution_count": 1,
   "metadata": {},
   "outputs": [],
   "source": [
    "class Library:\n",
    "    \n",
    "    def __init__(self):\n",
    "        \"\"\"\n",
    "        Create an attribute of type list called Book_list which will be an empty list for now.\n",
    "        \n",
    "        Ստեղծեք list տիպի Book_list attribute-ը, որն առայժմ կլինի դատարկ list \n",
    "        \"\"\"\n",
    "        self.Book_list = []\n",
    "        pass\n",
    "    \n",
    "    def get_top_5(self):\n",
    "        \"\"\"\n",
    "        Return the information related to 5 books that have the highest rating using the method pretty_print.\n",
    "        If there are more than 5 books with the same rating, randomly select and show only 5 of them.\n",
    "        \n",
    "        Վերադարձրեք 5 ամենաբարձր գնահատական ունեցող գրքերի վերաբերյալ ինֆորմացիա՝ օգտվելով pretty_print\n",
    "        ֆունկցիայից։ Եթե այդպիսի գրքերը 5-ից ավելի են՝ պատահականության սկզբունքով ընտրեք դրանցից 5-ը։\n",
    "        \"\"\"\n",
    "        \n",
    "        \n",
    "    def simple_search(self, title):\n",
    "        \"\"\"\n",
    "        Search a book with required title and print information related to all books with titles exactly \n",
    "        matching the searched title using the method pretty_print.\n",
    "        \n",
    "        Search արեք տրված վերնագրով գիրք (գրքեր) և վերադարձրեք այդ գրքի (գրքերի) մասին ինֆորմացիան՝ օգտվելով \n",
    "        pretty_print ֆունկցիայից։ Վերադարձված գրքերի վերնագրերը պետք է համընկնեն title փոփոխականի արժեքի հետ\n",
    "        \"\"\"\n",
    "        pass\n",
    "    \n",
    "    def complex_search(self, title):\n",
    "        \"\"\"\n",
    "        In this case the user may not remember the exact title of the book. If you have a book(s) with \n",
    "        title exactly matching the searched title, this method should perform just like the method simple_search.\n",
    "        Otherwise, if you don't have any books with the searched title, you should return book(s) that have the\n",
    "        most similar titles. You are free to implement this method however you like. \n",
    "        One version that you can implement in case you don't have other ideas:\n",
    "        return the book(s) with titles containing the most number of words from the searched title \n",
    "        (return the information using the method pretty_print), and if there are no such books, \n",
    "        return \"nothing macthed your search\".\n",
    "        I would be happy to see any other interesting versions of the method :)\n",
    "        \n",
    "        \n",
    "        Այս դեպքում օգտատերը միգուցե չհիշի գրքի կոնկրետ անվանումը կամ այն մի փոքր սխալ հիշի։ Եթե կա գիրք (գրքեր)\n",
    "        որոնց վերնագիրը համընկնում է title փոփոխականի արժեքի հետ, ապա վերադարձրեք այդ գրքին (գրքերին) \n",
    "        վերաբերող ինֆորմացիան՝ օգտվելով pretty_print ֆունկցիայից։ Հակառակ դեպքում, պետք է վերադարձնել այն գրքերի մասին \n",
    "        ինֆորմացիա, որոնց վերնագրերը նման են title փոփոխականում պահված վերնագրի արժեքին։ Ազատ եք\n",
    "        որոշելու այս ֆունկցիայի աշխատանքի տրամաբանությունը։\n",
    "        Որպես հնարավոր տարբերակ (եթե չկան այլ մտքեր) կարող եք վերադարձնել այն գրքերի ինֆորմացին, որոնց\n",
    "        վերնագրերը պարունակում են title փոփոխամանում տրված բառերից ամենաշատ քանակության բառերը ու եթե չկան\n",
    "        այդպիսի գրքեր, վերադարձրեք \"nothing macthed your search\"։ \n",
    "        Ուրախ կլինեմ տեսնել այս ֆունկցիայի հետաքրքիր տարբերակներ :)\n",
    "        \"\"\"\n",
    "        pass"
   ]
  },
  {
   "cell_type": "markdown",
   "metadata": {},
   "source": [
    "## Task 3.\n",
    "\n",
    "```\n",
    "Write a short summary explaining what you have implemented in the 2 Tasks. Don't go too much into details since I can also see your code. Just incorporate some points about interesting decisions or solutions that you have applied. \n",
    "```\n",
    "\n",
    "```\n",
    "Գրեք Ձեր աշխատանքի փոքրիկ ամփոփում, որտեղ կբացատրեք թե ինչպես եք կատարել առաջադրանքները։ Ամփոփումը պետք է լինի շատ կարճ ու ներառի միայն այս կամ այն լուծում տալու վերաբերյալ որոշ բացատրություններ։ Հարկավոր չէ բացատրել ամեն մի փոքր քայլ։ \n",
    "```"
   ]
  },
  {
   "cell_type": "code",
   "execution_count": 3,
   "metadata": {},
   "outputs": [
    {
     "name": "stdout",
     "output_type": "stream",
     "text": [
      "1\n"
     ]
    }
   ],
   "source": [
    "print(1)"
   ]
  },
  {
   "cell_type": "code",
   "execution_count": null,
   "metadata": {},
   "outputs": [],
   "source": []
  }
 ],
 "metadata": {
  "kernelspec": {
   "display_name": "Python 3",
   "language": "python",
   "name": "python3"
  },
  "language_info": {
   "codemirror_mode": {
    "name": "ipython",
    "version": 3
   },
   "file_extension": ".py",
   "mimetype": "text/x-python",
   "name": "python",
   "nbconvert_exporter": "python",
   "pygments_lexer": "ipython3",
   "version": "3.7.6"
  }
 },
 "nbformat": 4,
 "nbformat_minor": 4
}
